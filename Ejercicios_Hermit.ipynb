{
  "nbformat": 4,
  "nbformat_minor": 0,
  "metadata": {
    "colab": {
      "provenance": [],
      "authorship_tag": "ABX9TyNEMxqaHnEwuI+xGwT8ve24",
      "include_colab_link": true
    },
    "kernelspec": {
      "name": "python3",
      "display_name": "Python 3"
    },
    "language_info": {
      "name": "python"
    }
  },
  "cells": [
    {
      "cell_type": "markdown",
      "metadata": {
        "id": "view-in-github",
        "colab_type": "text"
      },
      "source": [
        "<a href=\"https://colab.research.google.com/github/Vixuz144/MN1/blob/main/Ejercicios_Hermit.ipynb\" target=\"_parent\"><img src=\"https://colab.research.google.com/assets/colab-badge.svg\" alt=\"Open In Colab\"/></a>"
      ]
    },
    {
      "cell_type": "code",
      "source": [
        "import numpy as np\n",
        "import sympy as sp\n",
        "import pandas as pd"
      ],
      "metadata": {
        "id": "Y8JugUokjEa-"
      },
      "execution_count": null,
      "outputs": []
    },
    {
      "cell_type": "code",
      "execution_count": null,
      "metadata": {
        "id": "13jpbzarXWC6"
      },
      "outputs": [],
      "source": [
        "X = np.array([1.3, 1.6, 1.9])\n",
        "Y = np.array([0.6200860, 0.4554022, 0.2818186])\n",
        "D = np.array([-0.5220232, -0.5698959, -0.5811571])"
      ]
    },
    {
      "cell_type": "code",
      "source": [
        "def Hermit(X, Y, D, x = sp.Symbol('x'), dec = 5):\n",
        "  n = len(X)\n",
        "  M = np.concatenate((np.transpose([[X],[X]]).reshape((2*n,1)), np.transpose([[Y],[Y]]).reshape((2*n,1))), 1)\n",
        "\n",
        "  p = Y[0] * 1\n",
        "\n",
        "  f = np.zeros(2*n)\n",
        "  for i in range(0,2*n-1,2):\n",
        "    f[i] = D[i//2]\n",
        "  for i in range(n-1):\n",
        "    f[2*i+1] = (Y[i+1] - Y[i])/(X[i+1] - X[i])\n",
        "\n",
        "  p += np.round(f[0], dec)*(x-M[0,0])\n",
        "  M = np.append(M, np.transpose([f]), 1)\n",
        "\n",
        "  for i in range(2,2*n):\n",
        "    l = []\n",
        "    for j in range(2*n):\n",
        "      try:\n",
        "        l.append((M[j+1,i] - M[j,i])/(M[j+i,0] - M[j,0]))\n",
        "      except:\n",
        "        l.append(0)\n",
        "    M = np.append(M, np.transpose([l]), 1)\n",
        "\n",
        "    s = 1\n",
        "    for j in range(i):\n",
        "      a = x-np.round(M[j,0], dec)\n",
        "      s *= a\n",
        "    p += np.round(M[0,i+1], dec)*s\n",
        "\n",
        "  tx = ['X', 'Y']\n",
        "  for i in range(1,2*n):\n",
        "    comas = ','*i\n",
        "    tx.append(f'f({comas})')\n",
        "\n",
        "  return pd.DataFrame(np.round(M,dec), columns=tx), p\n",
        "\n",
        "\n",
        "a, b = Hermit(X, Y, D)\n",
        "print(a)\n",
        "print(b)"
      ],
      "metadata": {
        "colab": {
          "base_uri": "https://localhost:8080/"
        },
        "id": "8dGENigIi40B",
        "outputId": "5b276088-2dc3-4dd3-af92-9b8ef8fc4c24"
      },
      "execution_count": null,
      "outputs": [
        {
          "output_type": "stream",
          "name": "stdout",
          "text": [
            "     X        Y     f(,)    f(,,)   f(,,,)  f(,,,,)  f(,,,,,)\n",
            "0  1.3  0.62009 -0.52202 -0.08974  0.06637  0.00267  -0.00277\n",
            "1  1.3  0.62009 -0.54895 -0.06983  0.06797  0.00100   0.00000\n",
            "2  1.6  0.45540 -0.56990 -0.02905  0.06857  0.00000   0.00000\n",
            "3  1.6  0.45540 -0.57861 -0.00848  0.00000  0.00000   0.00000\n",
            "4  1.9  0.28182 -0.58116  0.00000  0.00000  0.00000   0.00000\n",
            "5  1.9  0.28182  0.00000  0.00000  0.00000  0.00000   0.00000\n",
            "-0.52202*x - 0.011984128*(0.625*x - 1)**2*(0.769230769230769*x - 1)**2*(x - 1.9) + 0.011551488*(0.625*x - 1)**2*(0.769230769230769*x - 1)**2 + 0.1121653*(0.769230769230769*x - 1)**2*(x - 1.6) - 0.1516606*(0.769230769230769*x - 1)**2 + 1.298712\n"
          ]
        }
      ]
    },
    {
      "cell_type": "code",
      "source": [
        "#142\n",
        "X = np.array([8.3, 8.6])\n",
        "Y = np.array([17.56492, 18.50515])\n",
        "D = np.array([3.116256, 3.151762])\n",
        "\n",
        "tabla, pol = Hermit(X,Y,D)\n",
        "print(tabla)\n",
        "print(pol)\n",
        "print(pol.expand())"
      ],
      "metadata": {
        "colab": {
          "base_uri": "https://localhost:8080/"
        },
        "id": "QmIdTmAczh4G",
        "outputId": "b180a64f-24c4-4f90-f823-49614673a0ea"
      },
      "execution_count": null,
      "outputs": [
        {
          "output_type": "stream",
          "name": "stdout",
          "text": [
            "     X         Y     f(,)    f(,,)   f(,,,)\n",
            "0  8.3  17.56492  3.11626  0.05948 -0.00202\n",
            "1  8.3  17.56492  3.13410  0.05887  0.00000\n",
            "2  8.6  18.50515  3.15176  0.00000  0.00000\n",
            "3  8.6  18.50515  0.00000  0.00000  0.00000\n",
            "3.11626*x - 0.1391578*(0.120481927710843*x - 1)**2*(x - 8.6) + 4.0975772*(0.120481927710843*x - 1)**2 - 8.300038\n",
            "-0.00202*x**3 + 0.110384*x**2 + 1.701359*x - 3.00570372\n"
          ]
        }
      ]
    }
  ]
}