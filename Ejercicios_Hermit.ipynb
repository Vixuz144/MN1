{
  "nbformat": 4,
  "nbformat_minor": 0,
  "metadata": {
    "colab": {
      "provenance": [],
      "authorship_tag": "ABX9TyNbK7WLo+xpuyHWp5epUQud",
      "include_colab_link": true
    },
    "kernelspec": {
      "name": "python3",
      "display_name": "Python 3"
    },
    "language_info": {
      "name": "python"
    }
  },
  "cells": [
    {
      "cell_type": "markdown",
      "metadata": {
        "id": "view-in-github",
        "colab_type": "text"
      },
      "source": [
        "<a href=\"https://colab.research.google.com/github/Vixuz144/MN1/blob/main/Ejercicios_Hermit.ipynb\" target=\"_parent\"><img src=\"https://colab.research.google.com/assets/colab-badge.svg\" alt=\"Open In Colab\"/></a>"
      ]
    },
    {
      "cell_type": "code",
      "source": [
        "import numpy as np\n",
        "import sympy as sp\n",
        "import pandas as pd"
      ],
      "metadata": {
        "id": "Y8JugUokjEa-"
      },
      "execution_count": 85,
      "outputs": []
    },
    {
      "cell_type": "code",
      "source": [
        "t = sp.Symbol('t')"
      ],
      "metadata": {
        "id": "bEpTc2isjKj2"
      },
      "execution_count": 86,
      "outputs": []
    },
    {
      "cell_type": "code",
      "execution_count": 87,
      "metadata": {
        "id": "13jpbzarXWC6"
      },
      "outputs": [],
      "source": [
        "X = np.array([1.3, 1.6, 1.9])\n",
        "Y = np.array([0.6200860, 0.4554022, 0.2818186])\n",
        "D = np.array([-0.5220232, -0.5698959, -0.5811571])"
      ]
    },
    {
      "cell_type": "code",
      "source": [
        "def Hermit(X, Y, D, x = t, dec = 5):\n",
        "  n = len(X)\n",
        "  M = np.concatenate((np.transpose([[X],[X]]).reshape((2*n,1)), np.transpose([[Y],[Y]]).reshape((2*n,1))), 1)\n",
        "\n",
        "  p = Y[0] * 1\n",
        "\n",
        "  f = np.zeros(2*n)\n",
        "  for i in range(0,2*n-1,2):\n",
        "    f[i] = D[i//2]\n",
        "  for i in range(n-1):\n",
        "    f[2*i+1] = (Y[i+1] - Y[i])/(X[i+1] - X[i])\n",
        "\n",
        "  p += np.round(f[0], dec)*(x-M[0,0])\n",
        "  M = np.append(M, np.transpose([f]), 1)\n",
        "\n",
        "  for i in range(2,2*n):\n",
        "    l = []\n",
        "    for j in range(2*n):\n",
        "      try:\n",
        "        l.append((M[j+1,i] - M[j,i])/(M[j+i,0] - M[j,0]))\n",
        "      except:\n",
        "        l.append(0)\n",
        "    M = np.append(M, np.transpose([l]), 1)\n",
        "\n",
        "    s = 1\n",
        "    for j in range(i):\n",
        "      a = x-np.round(M[j,0], dec)\n",
        "      s *= a\n",
        "    p += np.round(M[0,i+1], dec)*s\n",
        "\n",
        "  tx = ['X', 'Y']\n",
        "  for i in range(1,2*n):\n",
        "    comas = ','*i\n",
        "    tx.append(f'f({comas})')\n",
        "\n",
        "  return pd.DataFrame(np.round(M,dec), columns=tx), np.round(p, dec)\n",
        "\n",
        "\n",
        "a, b = Hermit(X, Y, D, x = 1.5, dec=7)\n",
        "print(a)\n",
        "print(b)"
      ],
      "metadata": {
        "colab": {
          "base_uri": "https://localhost:8080/"
        },
        "id": "8dGENigIi40B",
        "outputId": "d5ce60d9-3f7c-4bb2-b703-6c7b497ed52c"
      },
      "execution_count": 119,
      "outputs": [
        {
          "output_type": "stream",
          "name": "stdout",
          "text": [
            "     X         Y      f(,)     f(,,)    f(,,,)   f(,,,,)  f(,,,,,)\n",
            "0  1.3  0.620086 -0.522023 -0.089743  0.066366  0.002667 -0.002775\n",
            "1  1.3  0.620086 -0.548946 -0.069833  0.067966  0.001002  0.000000\n",
            "2  1.6  0.455402 -0.569896 -0.029054  0.068567  0.000000  0.000000\n",
            "3  1.6  0.455402 -0.578612 -0.008484  0.000000  0.000000  0.000000\n",
            "4  1.9  0.281819 -0.581157  0.000000  0.000000  0.000000  0.000000\n",
            "5  1.9  0.281819  0.000000  0.000000  0.000000  0.000000  0.000000\n",
            "0.5118277\n"
          ]
        }
      ]
    },
    {
      "cell_type": "code",
      "source": [],
      "metadata": {
        "id": "QmIdTmAczh4G"
      },
      "execution_count": null,
      "outputs": []
    }
  ]
}