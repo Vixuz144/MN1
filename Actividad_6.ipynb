{
  "nbformat": 4,
  "nbformat_minor": 0,
  "metadata": {
    "colab": {
      "provenance": [],
      "authorship_tag": "ABX9TyMkOh/vbQ+ELK6kHU2X1sYx",
      "include_colab_link": true
    },
    "kernelspec": {
      "name": "python3",
      "display_name": "Python 3"
    },
    "language_info": {
      "name": "python"
    }
  },
  "cells": [
    {
      "cell_type": "markdown",
      "metadata": {
        "id": "view-in-github",
        "colab_type": "text"
      },
      "source": [
        "<a href=\"https://colab.research.google.com/github/Vixuz144/MN1/blob/main/Actividad_6.ipynb\" target=\"_parent\"><img src=\"https://colab.research.google.com/assets/colab-badge.svg\" alt=\"Open In Colab\"/></a>"
      ]
    },
    {
      "cell_type": "markdown",
      "source": [
        "#Punto fijo y falsa posición"
      ],
      "metadata": {
        "id": "WgoNIfwiHH3w"
      }
    },
    {
      "cell_type": "code",
      "execution_count": 1,
      "metadata": {
        "id": "O_bVQFgmrJ7g"
      },
      "outputs": [],
      "source": [
        "import numpy as np\n",
        "import prettytable as pt"
      ]
    },
    {
      "cell_type": "code",
      "source": [
        "def punto_fijo(p0, f, tol = 10**-3, mi = 10, dec = 7):\n",
        "  p = p0\n",
        "  T = pt.PrettyTable([\"Iter\", \"p_i\", \"g(p_i)\", \"error\"])\n",
        "  error = \"-\"*dec\n",
        "  for i in range(mi):\n",
        "    q = f(p)\n",
        "    try:\n",
        "      T.add_row([i, round(p, dec), round(q, dec), round(error, dec)])\n",
        "    except:\n",
        "      T.add_row([i, round(p, dec), round(q, dec), error])\n",
        "    error = abs(p-q)\n",
        "    if error < tol:\n",
        "      p = q\n",
        "      q = f(p)\n",
        "      T.add_row([i+1, round(p, dec), round(q, dec), round(error, dec)])\n",
        "      break\n",
        "    else:\n",
        "      p = q\n",
        "  print(T)\n",
        "  return p, T"
      ],
      "metadata": {
        "id": "X2IN3ZA6yoOm"
      },
      "execution_count": 2,
      "outputs": []
    },
    {
      "cell_type": "code",
      "source": [
        "def pf(a, b, f, tol = 10**-3, mi = 10, dec = 5):\n",
        "  p0, p1 = a, b\n",
        "  q0, q1 = f(p0), f(p1)\n",
        "  T = pt.PrettyTable([\"iter\", \"p\", \"f(p)\", \"error\"])\n",
        "  T.add_row([0, round(p0, dec), round(q0, dec), \"---\"])\n",
        "  T.add_row([1, round(p1, dec), round(q1, dec), abs(p0-p1)])\n",
        "  for i in range(mi):\n",
        "    p = (p0*q1 - p1*q0)/(q1-q0)\n",
        "    error = abs(p - p1)\n",
        "    q = f(p)\n",
        "    T.add_row([i+2, round(p, dec), round(q,dec), round(error,dec)])\n",
        "    if error < tol:\n",
        "      break\n",
        "    else:\n",
        "      if q*q1 < 0:\n",
        "        p0, q0 = p1, q1\n",
        "      p1, q1 = p, q\n",
        "  print(T)\n",
        "  return p"
      ],
      "metadata": {
        "id": "h9NbdJUzADVz"
      },
      "execution_count": 3,
      "outputs": []
    },
    {
      "cell_type": "markdown",
      "source": [
        "#1"
      ],
      "metadata": {
        "id": "IrgXzBx3xByk"
      }
    },
    {
      "cell_type": "markdown",
      "source": [
        "Sea $f(x) = x^3 - 2x + 1$. Para resolver $f(x) = 0$, se proponen los siguientes problemas de punto fijo. Derive cada método de punto fijo y calcule p1, p2, p3 y p4. ¿Cuáles métodos parecen apropiados?\n"
      ],
      "metadata": {
        "id": "6UImIDojvZUM"
      }
    },
    {
      "cell_type": "markdown",
      "source": [
        "a) $x = \\frac{1}{2}(x^3 + 1)$, $p_0 = \\frac{1}{2}$"
      ],
      "metadata": {
        "id": "DBS3ajEtvZO5"
      }
    },
    {
      "cell_type": "code",
      "source": [
        "x0 = 0.5\n",
        "f1 = lambda x: 0.5*(x**3 + 1)\n",
        "print(punto_fijo(x0,f1,10**-7,6)[0])"
      ],
      "metadata": {
        "colab": {
          "base_uri": "https://localhost:8080/"
        },
        "id": "HMnqNiny0Kwn",
        "outputId": "48df33d8-a227-4cc5-bbb6-ed7fcf6dddc3"
      },
      "execution_count": 4,
      "outputs": [
        {
          "output_type": "stream",
          "name": "stdout",
          "text": [
            "+------+-----------+-----------+-----------+\n",
            "| Iter |    p_i    |   g(p_i)  |   error   |\n",
            "+------+-----------+-----------+-----------+\n",
            "|  0   |    0.5    |   0.5625  |  -------  |\n",
            "|  1   |   0.5625  | 0.5889893 |   0.0625  |\n",
            "|  2   | 0.5889893 | 0.6021626 | 0.0264893 |\n",
            "|  3   | 0.6021626 |  0.609172 | 0.0131734 |\n",
            "|  4   |  0.609172 |  0.613029 | 0.0070094 |\n",
            "|  5   |  0.613029 | 0.6151895 |  0.003857 |\n",
            "+------+-----------+-----------+-----------+\n",
            "0.6151895466090406\n"
          ]
        }
      ]
    },
    {
      "cell_type": "markdown",
      "source": [
        "b) $x = \\frac{2}{x} + \\frac{1}{x^2}$, $p_0 = \\frac{1}{2}$\n",
        "\n",
        "La derivada no es continua en todo $\\mathbb{R}$ y al evaluar observamos que la función no tiene una cota menor a 1, por lo que no es apropiado aplicar el método"
      ],
      "metadata": {
        "id": "H35Pt0yuv8UW"
      }
    },
    {
      "cell_type": "markdown",
      "source": [
        "c) $x = \\sqrt{1 - \\frac{1}{x}}$, $p_0 = \\frac{1}{2}$\n",
        "\n",
        "La derivada no es continua en todo $\\mathbb{R}$ y al evaluar observamos que la función no tiene una cota menor a 1, por lo que no es apropiado aplicar el método"
      ],
      "metadata": {
        "id": "-qyLHtFvv8as"
      }
    },
    {
      "cell_type": "markdown",
      "source": [
        "d) $x = \\sqrt[3]{1 - 2x}$, $p_0 = \\frac{1}{2}$\n",
        "\n",
        "La derivada no es continua en todo $\\mathbb{R}$ y al evaluar observamos que la función no tiene una cota menor a 1, por lo que no es apropiado aplicar el método"
      ],
      "metadata": {
        "id": "dTrgS-UGv8gE"
      }
    },
    {
      "cell_type": "markdown",
      "source": [
        "#2"
      ],
      "metadata": {
        "id": "iQtv4yqbvZMd"
      }
    },
    {
      "cell_type": "markdown",
      "source": [
        "Use el método de iteración de punto fijo para determinar una solución exacta dentro de $10^{-2}$ para $x^3  x - 1 = 0$ en $[1, 2]$. Utilice $p_0 = 1$.\n"
      ],
      "metadata": {
        "id": "MEJnilHjvZJo"
      }
    },
    {
      "cell_type": "code",
      "source": [
        "f = lambda x: (x+1)**(1/3)\n",
        "print(punto_fijo(1,f,10**-2,6)[0])"
      ],
      "metadata": {
        "colab": {
          "base_uri": "https://localhost:8080/"
        },
        "id": "EgbWU7P58k1F",
        "outputId": "f16a0c28-b6d1-44f8-e5ad-26280d359c77"
      },
      "execution_count": 5,
      "outputs": [
        {
          "output_type": "stream",
          "name": "stdout",
          "text": [
            "+------+-----------+-----------+-----------+\n",
            "| Iter |    p_i    |   g(p_i)  |   error   |\n",
            "+------+-----------+-----------+-----------+\n",
            "|  0   |     1     |  1.259921 |  -------  |\n",
            "|  1   |  1.259921 | 1.3122938 |  0.259921 |\n",
            "|  2   | 1.3122938 | 1.3223538 | 0.0523728 |\n",
            "|  3   | 1.3223538 | 1.3242687 |  0.01006  |\n",
            "|  4   | 1.3242687 | 1.3246326 | 0.0019149 |\n",
            "+------+-----------+-----------+-----------+\n",
            "1.324268744551578\n"
          ]
        }
      ]
    },
    {
      "cell_type": "markdown",
      "source": [
        "#3"
      ],
      "metadata": {
        "id": "OOuphEwnvZG9"
      }
    },
    {
      "cell_type": "markdown",
      "source": [
        "Demuestre que $ g(x) = \\pi + 0.5 \\sin\\left( \\frac{x}{2} \\right) $ tiene un único punto fijo en $[0, 2\\pi]$. Use la iteración de punto fijo para encontrar una aproximación precisa dentro de $10^{-2}$."
      ],
      "metadata": {
        "id": "qOlHQ5VVvY-W"
      }
    },
    {
      "cell_type": "code",
      "source": [
        "f = lambda x: np.pi + 0.5*np.sin(x/2)\n",
        "print(punto_fijo(3.1416,f,10**-2,6)[0])"
      ],
      "metadata": {
        "colab": {
          "base_uri": "https://localhost:8080/"
        },
        "id": "C_fuCP4c93Dz",
        "outputId": "a12c2d3e-74cf-4d84-cf4a-eae5be8aaa74"
      },
      "execution_count": 6,
      "outputs": [
        {
          "output_type": "stream",
          "name": "stdout",
          "text": [
            "+------+-----------+-----------+-----------+\n",
            "| Iter |    p_i    |   g(p_i)  |   error   |\n",
            "+------+-----------+-----------+-----------+\n",
            "|  0   |   3.1416  | 3.6415927 |  -------  |\n",
            "|  1   | 3.6415927 | 3.6260489 | 0.4999927 |\n",
            "|  2   | 3.6260489 | 3.6269956 | 0.0155438 |\n",
            "|  3   | 3.6269956 | 3.6269388 | 0.0009468 |\n",
            "+------+-----------+-----------+-----------+\n",
            "3.6269956224387228\n"
          ]
        }
      ]
    },
    {
      "cell_type": "markdown",
      "source": [
        "#4"
      ],
      "metadata": {
        "id": "buuUtZzjx5Od"
      }
    },
    {
      "cell_type": "markdown",
      "source": [
        "Use un método de iteración de punto fijo para hallar una aproximación a $ \\sqrt{3} $ que sea precisa dentro de $10^{-4}$."
      ],
      "metadata": {
        "id": "QTRoISkRx5EZ"
      }
    },
    {
      "cell_type": "code",
      "source": [
        "f = lambda x: 0.5*(3/x + x)\n",
        "print(punto_fijo(1.5,f,10**-4,10, 7)[0])"
      ],
      "metadata": {
        "colab": {
          "base_uri": "https://localhost:8080/"
        },
        "id": "y8iW3Tbvxx65",
        "outputId": "804023b1-3645-416d-b143-56312d76baf4"
      },
      "execution_count": 7,
      "outputs": [
        {
          "output_type": "stream",
          "name": "stdout",
          "text": [
            "+------+-----------+-----------+-----------+\n",
            "| Iter |    p_i    |   g(p_i)  |   error   |\n",
            "+------+-----------+-----------+-----------+\n",
            "|  0   |    1.5    |    1.75   |  -------  |\n",
            "|  1   |    1.75   | 1.7321429 |    0.25   |\n",
            "|  2   | 1.7321429 | 1.7320508 | 0.0178571 |\n",
            "|  3   | 1.7320508 | 1.7320508 |  9.2e-05  |\n",
            "+------+-----------+-----------+-----------+\n",
            "1.7320508100147274\n"
          ]
        }
      ]
    },
    {
      "cell_type": "markdown",
      "source": [
        "#5"
      ],
      "metadata": {
        "id": "N1-e4Jb9x5Bz"
      }
    },
    {
      "cell_type": "markdown",
      "source": [
        "Use el método de la posición falsa para encontrar soluciones precisas dentro de $10^{-5}$ para los siguientes problemas:"
      ],
      "metadata": {
        "id": "TYStQ41Ax48T"
      }
    },
    {
      "cell_type": "markdown",
      "source": [
        "a) $ e^x - 3x^2 = 0 $ en $[0, 1]$"
      ],
      "metadata": {
        "id": "49iaLkVwyVfL"
      }
    },
    {
      "cell_type": "code",
      "source": [
        "f = lambda x: np.exp(x) - 3*x**2\n",
        "print(pf(0, 1, f, 10**-5, 10))"
      ],
      "metadata": {
        "colab": {
          "base_uri": "https://localhost:8080/"
        },
        "id": "zRKPGeBwCdP5",
        "outputId": "bba21a79-dd95-4d8e-d168-6858bb66f5ad"
      },
      "execution_count": 8,
      "outputs": [
        {
          "output_type": "stream",
          "name": "stdout",
          "text": [
            "+------+---------+----------+---------+\n",
            "| iter |    p    |   f(p)   |  error  |\n",
            "+------+---------+----------+---------+\n",
            "|  0   |    0    |   1.0    |   ---   |\n",
            "|  1   |    1    | -0.28172 |    1    |\n",
            "|  2   |  0.7802 | 0.35577  |  0.2198 |\n",
            "|  3   | 0.90287 | 0.02116  | 0.12266 |\n",
            "|  4   | 0.90965 | 0.00106  | 0.00679 |\n",
            "|  5   | 0.90999 |  5e-05   | 0.00034 |\n",
            "|  6   | 0.91001 |   0.0    |  2e-05  |\n",
            "|  7   | 0.91001 |   0.0    |   0.0   |\n",
            "+------+---------+----------+---------+\n",
            "0.9100075295782829\n"
          ]
        }
      ]
    },
    {
      "cell_type": "markdown",
      "source": [
        "b) $ \\sin(x) - e^{-x} = 0 $ en $[3, 4]$"
      ],
      "metadata": {
        "id": "OSsCibvryViF"
      }
    },
    {
      "cell_type": "code",
      "source": [
        "f = lambda x: np.sin(x) - np.exp(-x)\n",
        "print(pf(3, 4, f, 10**-5, 10, 9))"
      ],
      "metadata": {
        "colab": {
          "base_uri": "https://localhost:8080/"
        },
        "id": "nkcxd9jrGLxn",
        "outputId": "043caa8b-0625-4ce2-a176-5fb801b87b4d"
      },
      "execution_count": 9,
      "outputs": [
        {
          "output_type": "stream",
          "name": "stdout",
          "text": [
            "+------+-------------+--------------+-------------+\n",
            "| iter |      p      |     f(p)     |    error    |\n",
            "+------+-------------+--------------+-------------+\n",
            "|  0   |      3      |  0.09133294  |     ---     |\n",
            "|  1   |      4      | -0.775118134 |      1      |\n",
            "|  2   | 3.105410383 | -0.008631751 | 0.894589617 |\n",
            "|  3   | 3.096308408 |  5.2957e-05  | 0.009101976 |\n",
            "|  4   | 3.096363909 |   2.2e-08    |  5.5502e-05 |\n",
            "|  5   | 3.096363932 |     0.0      |   2.3e-08   |\n",
            "+------+-------------+--------------+-------------+\n",
            "3.096363932401139\n"
          ]
        }
      ]
    }
  ]
}