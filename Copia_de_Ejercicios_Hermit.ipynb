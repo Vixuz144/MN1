{
  "nbformat": 4,
  "nbformat_minor": 0,
  "metadata": {
    "colab": {
      "provenance": [],
      "include_colab_link": true
    },
    "kernelspec": {
      "name": "python3",
      "display_name": "Python 3"
    },
    "language_info": {
      "name": "python"
    }
  },
  "cells": [
    {
      "cell_type": "markdown",
      "metadata": {
        "id": "view-in-github",
        "colab_type": "text"
      },
      "source": [
        "<a href=\"https://colab.research.google.com/github/Vixuz144/MN1/blob/main/Copia_de_Ejercicios_Hermit.ipynb\" target=\"_parent\"><img src=\"https://colab.research.google.com/assets/colab-badge.svg\" alt=\"Open In Colab\"/></a>"
      ]
    },
    {
      "cell_type": "code",
      "source": [
        "import numpy as np\n",
        "import sympy as sp\n",
        "import pandas as pd"
      ],
      "metadata": {
        "id": "Y8JugUokjEa-"
      },
      "execution_count": null,
      "outputs": []
    },
    {
      "cell_type": "code",
      "execution_count": null,
      "metadata": {
        "id": "13jpbzarXWC6"
      },
      "outputs": [],
      "source": [
        "X = np.array([1.3, 1.6, 1.9])\n",
        "Y = np.array([0.6200860, 0.4554022, 0.2818186])\n",
        "D = np.array([-0.5220232, -0.5698959, -0.5811571])"
      ]
    },
    {
      "cell_type": "code",
      "source": [
        "def Hermit(X, Y, D, x = sp.Symbol('x'), dec = 5):\n",
        "  n = len(X)\n",
        "  M = np.concatenate((np.transpose([[X],[X]]).reshape((2*n,1)), np.transpose([[Y],[Y]]).reshape((2*n,1))), 1)\n",
        "\n",
        "  p = Y[0] * 1\n",
        "\n",
        "  f = np.zeros(2*n)\n",
        "  for i in range(0,2*n-1,2):\n",
        "    f[i] = D[i//2]\n",
        "  for i in range(n-1):\n",
        "    f[2*i+1] = (Y[i+1] - Y[i])/(X[i+1] - X[i])\n",
        "\n",
        "  p += np.round(f[0], dec)*(x-M[0,0])\n",
        "  M = np.append(M, np.transpose([f]), 1)\n",
        "\n",
        "  for i in range(2,2*n):\n",
        "    l = []\n",
        "    for j in range(2*n):\n",
        "      try:\n",
        "        l.append((M[j+1,i] - M[j,i])/(M[j+i,0] - M[j,0]))\n",
        "      except:\n",
        "        l.append(0)\n",
        "    M = np.append(M, np.transpose([l]), 1)\n",
        "\n",
        "    s = 1\n",
        "    for j in range(i):\n",
        "      a = x-np.round(M[j,0], dec)\n",
        "      s *= a\n",
        "    p += np.round(M[0,i+1], dec)*s\n",
        "\n",
        "  tx = ['X', 'Y']\n",
        "  for i in range(1,2*n):\n",
        "    comas = ','*i\n",
        "    tx.append(f'f({comas})')\n",
        "\n",
        "  return pd.DataFrame(np.round(M,dec), columns=tx), p\n",
        "\n",
        "\n",
        "a, b = Hermit(X, Y, D)\n",
        "print(a)\n",
        "print(b)"
      ],
      "metadata": {
        "colab": {
          "base_uri": "https://localhost:8080/"
        },
        "id": "8dGENigIi40B",
        "outputId": "6d1247b0-2951-4b13-80df-e223ac18468f"
      },
      "execution_count": null,
      "outputs": [
        {
          "output_type": "stream",
          "name": "stdout",
          "text": [
            "     X        Y     f(,)    f(,,)   f(,,,)  f(,,,,)  f(,,,,,)\n",
            "0  1.3  0.62009 -0.52202 -0.08974  0.06637  0.00267  -0.00277\n",
            "1  1.3  0.62009 -0.54895 -0.06983  0.06797  0.00100   0.00000\n",
            "2  1.6  0.45540 -0.56990 -0.02905  0.06857  0.00000   0.00000\n",
            "3  1.6  0.45540 -0.57861 -0.00848  0.00000  0.00000   0.00000\n",
            "4  1.9  0.28182 -0.58116  0.00000  0.00000  0.00000   0.00000\n",
            "5  1.9  0.28182  0.00000  0.00000  0.00000  0.00000   0.00000\n",
            "-0.52202*x - 0.011984128*(0.625*x - 1)**2*(0.769230769230769*x - 1)**2*(x - 1.9) + 0.011551488*(0.625*x - 1)**2*(0.769230769230769*x - 1)**2 + 0.1121653*(0.769230769230769*x - 1)**2*(x - 1.6) - 0.1516606*(0.769230769230769*x - 1)**2 + 1.298712\n"
          ]
        }
      ]
    },
    {
      "cell_type": "code",
      "source": [
        "x = sp.Symbol('x')"
      ],
      "metadata": {
        "id": "a6jFGQf4cJNo"
      },
      "execution_count": null,
      "outputs": []
    },
    {
      "cell_type": "code",
      "source": [
        "#142\n",
        "X = np.array([8.3, 8.6])\n",
        "Y = np.array([17.56492, 18.50515])\n",
        "D = np.array([3.116256, 3.151762])\n",
        "\n",
        "tabla, pol = Hermit(X,Y,D)\n",
        "print(tabla)\n",
        "print(pol)\n",
        "print(pol.expand())"
      ],
      "metadata": {
        "colab": {
          "base_uri": "https://localhost:8080/"
        },
        "id": "QmIdTmAczh4G",
        "outputId": "84d5e923-534d-4711-96ea-356745ade774"
      },
      "execution_count": null,
      "outputs": [
        {
          "output_type": "stream",
          "name": "stdout",
          "text": [
            "     X         Y     f(,)    f(,,)   f(,,,)\n",
            "0  8.3  17.56492  3.11626  0.05948 -0.00202\n",
            "1  8.3  17.56492  3.13410  0.05887  0.00000\n",
            "2  8.6  18.50515  3.15176  0.00000  0.00000\n",
            "3  8.6  18.50515  0.00000  0.00000  0.00000\n",
            "3.11626*x - 0.1391578*(0.120481927710843*x - 1)**2*(x - 8.6) + 4.0975772*(0.120481927710843*x - 1)**2 - 8.300038\n",
            "-0.00202*x**3 + 0.110384*x**2 + 1.701359*x - 3.00570372\n",
            "2.3631606937057947\n",
            "-2.25386995254000\n"
          ]
        }
      ]
    },
    {
      "cell_type": "code",
      "source": [
        "X = [0, 0.5]\n",
        "Y = [1, 2.71828]\n",
        "D = [2, 5.43656]\n",
        "tabla, pol = Hermit(X,Y,D)\n",
        "print(tabla)\n",
        "print(pol)\n",
        "print(pol.expand(),'\\n')\n",
        "\n",
        "\n",
        "v=0.43\n",
        "print(np.exp(2*v))\n",
        "print(pol.subs(x,v))"
      ],
      "metadata": {
        "id": "C17GX29sZCsg",
        "outputId": "6d807d9d-3153-4627-b7f3-a6dd692dab8b",
        "colab": {
          "base_uri": "https://localhost:8080/"
        }
      },
      "execution_count": null,
      "outputs": [
        {
          "output_type": "stream",
          "name": "stdout",
          "text": [
            "     X        Y     f(,)    f(,,)   f(,,,)\n",
            "0  0.0  1.00000  2.00000  2.87312  2.25376\n",
            "1  0.0  1.00000  3.43656  4.00000  0.00000\n",
            "2  0.5  2.71828  5.43656  0.00000  0.00000\n",
            "3  0.5  2.71828  0.00000  0.00000  0.00000\n",
            "2.25376*x**2*(x - 0.5) + 2.87312*x**2 + 2.0*x + 1\n",
            "2.25376*x**3 + 1.74624*x**2 + 2.0*x + 1 \n",
            "\n",
            "2.3631606937057947\n",
            "2.36206947232000\n"
          ]
        }
      ]
    },
    {
      "cell_type": "code",
      "source": [
        "X = [0.1, 0.2, 0.3, 0.4]\n",
        "Y = [-0.62049958, -0.28398668, 0.00660095, 0.24842440]\n",
        "D = [3.58502082, 3.14033271, 2.66668043, 2.16529366]\n",
        "tabla, pol = Hermit(X,Y,D, dec = 8)\n",
        "print(tabla)\n",
        "print(pol)\n",
        "print(pol.expand(),'\\n')\n",
        "\n",
        "\n",
        "v=0.25\n",
        "print(v*np.cos(v) - 2*v**2 + 3*v-1)\n",
        "print(pol.subs(x,v))"
      ],
      "metadata": {
        "id": "9J03UO9OanrQ",
        "outputId": "b4e45f14-1903-44ce-b42f-5d2d85c4c8e4",
        "colab": {
          "base_uri": "https://localhost:8080/"
        }
      },
      "execution_count": null,
      "outputs": [
        {
          "output_type": "stream",
          "name": "stdout",
          "text": [
            "     X         Y      f(,)     f(,,)    f(,,,)   f(,,,,)  f(,,,,,)  f(,,,,,,)  \\\n",
            "0  0.1 -0.620500  3.585021 -2.198918 -0.490447  0.037205  0.040475  -0.002528   \n",
            "1  0.1 -0.620500  3.365129 -2.247963 -0.483006  0.045300  0.039717  -0.001639   \n",
            "2  0.2 -0.283987  3.140333 -2.344564 -0.473946  0.057215  0.039225   0.000000   \n",
            "3  0.2 -0.283987  2.905876 -2.391959 -0.462503  0.065060  0.000000   0.000000   \n",
            "4  0.3  0.006601  2.666680 -2.484459 -0.449491  0.000000  0.000000   0.000000   \n",
            "5  0.3  0.006601  2.418235 -2.529408  0.000000  0.000000  0.000000   0.000000   \n",
            "6  0.4  0.248424  2.165294  0.000000  0.000000  0.000000  0.000000   0.000000   \n",
            "7  0.4  0.248424  0.000000  0.000000  0.000000  0.000000  0.000000   0.000000   \n",
            "\n",
            "   f(,,,,,,,)  \n",
            "0    0.002963  \n",
            "1    0.000000  \n",
            "2    0.000000  \n",
            "3    0.000000  \n",
            "4    0.000000  \n",
            "5    0.000000  \n",
            "6    0.000000  \n",
            "7    0.000000  \n",
            "3.58502082*x + 0.00296296*(x - 0.4)*(x - 0.3)**2*(x - 0.2)**2*(x - 0.1)**2 - 0.00252778*(x - 0.3)**2*(x - 0.2)**2*(x - 0.1)**2 + 0.040475*(x - 0.3)*(x - 0.2)**2*(x - 0.1)**2 + 0.037205*(x - 0.2)**2*(x - 0.1)**2 - 0.490447*(x - 0.2)*(x - 0.1)**2 - 2.1989182*(x - 0.1)**2 - 0.979001662\n",
            "0.00296296*x**7 - 0.007268516*x**6 + 0.0466490736*x**5 - 0.00180268536*x**4 - 0.499630898056*x**3 - 2.0000425463124*x**2 + 4.00000255777904*x - 1.0000000586667 \n",
            "\n",
            "-0.13277189457233884\n",
            "-0.132771890847657\n"
          ]
        }
      ]
    }
  ]
}