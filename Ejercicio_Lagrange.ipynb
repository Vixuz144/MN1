{
  "nbformat": 4,
  "nbformat_minor": 0,
  "metadata": {
    "colab": {
      "provenance": [],
      "authorship_tag": "ABX9TyMBk+d1DABAYEYSDz58RjQL",
      "include_colab_link": true
    },
    "kernelspec": {
      "name": "python3",
      "display_name": "Python 3"
    },
    "language_info": {
      "name": "python"
    }
  },
  "cells": [
    {
      "cell_type": "markdown",
      "metadata": {
        "id": "view-in-github",
        "colab_type": "text"
      },
      "source": [
        "<a href=\"https://colab.research.google.com/github/Vixuz144/MN1/blob/main/Ejercicio_Lagrange.ipynb\" target=\"_parent\"><img src=\"https://colab.research.google.com/assets/colab-badge.svg\" alt=\"Open In Colab\"/></a>"
      ]
    },
    {
      "cell_type": "code",
      "execution_count": 1,
      "metadata": {
        "id": "S8E7pp5tm4ue"
      },
      "outputs": [],
      "source": [
        "import numpy as np"
      ]
    },
    {
      "cell_type": "code",
      "source": [
        "def inter_lag(X, Y, x):\n",
        "  l = []\n",
        "  for i in range(n):\n",
        "    a = x-np.append(X[:i], X[i+1:])\n",
        "    b = X[i]-np.append(X[:i], X[i+1:])\n",
        "    l.append(np.prod(a/b))\n",
        "  l = np.array(l)\n",
        "  return np.dot(Y, l)"
      ],
      "metadata": {
        "id": "F5_rNVtRoC-v"
      },
      "execution_count": 68,
      "outputs": []
    },
    {
      "cell_type": "code",
      "source": [
        "fa = lambda x: np.cos(x)\n",
        "fb = lambda x: np.sqrt(x+1)\n",
        "fc = lambda x: np.log(x+1)\n",
        "fd = lambda x: np.tan(x)"
      ],
      "metadata": {
        "id": "8tELIsQ_m8d7"
      },
      "execution_count": 2,
      "outputs": []
    },
    {
      "cell_type": "code",
      "source": [
        "X = np.array([0, 0.6, 0.9])\n",
        "n = len(X)\n",
        "x = 0.45"
      ],
      "metadata": {
        "id": "Ah7qFiFEnPWL"
      },
      "execution_count": 67,
      "outputs": []
    },
    {
      "cell_type": "code",
      "source": [
        "a = inter_lag(X, fa(X), x)\n",
        "b = inter_lag(X, fb(X), x)\n",
        "c = inter_lag(X, fc(X), x)\n",
        "d = inter_lag(X, fd(X), x)\n",
        "print(a, fa(x), a - fa(x))\n",
        "print(b, fb(x), b - fb(x))\n",
        "print(c, fc(x), c - fc(x))\n",
        "print(d, fd(x), d - fd(x))"
      ],
      "metadata": {
        "colab": {
          "base_uri": "https://localhost:8080/"
        },
        "id": "f99M5FGfnaiP",
        "outputId": "aa4c7781-024b-41b4-a2e2-63939491e622"
      },
      "execution_count": 72,
      "outputs": [
        {
          "output_type": "stream",
          "name": "stdout",
          "text": [
            "0.898100074705722 0.9004471023526769 -0.0023470276469549356\n",
            "1.2034237282735152 1.2041594578792296 -0.0007357296057144413\n",
            "0.36829061135835384 0.371563556432483 -0.0032729450741291743\n",
            "0.454614354996819 0.4830550656165784 -0.02844071061975939\n"
          ]
        }
      ]
    },
    {
      "cell_type": "code",
      "source": [
        "print(0.6+0.9, 0.6*0.9)\n",
        "print(fa(X))\n",
        "print(fb(X))\n",
        "print(np.sqrt(1-X), np.sqrt(1-x))"
      ],
      "metadata": {
        "colab": {
          "base_uri": "https://localhost:8080/"
        },
        "id": "2deLPhKxuoc4",
        "outputId": "d481cfb0-d16e-4faa-e129-d27c89870766"
      },
      "execution_count": 78,
      "outputs": [
        {
          "output_type": "stream",
          "name": "stdout",
          "text": [
            "1.5 0.54\n",
            "[1.         0.82533561 0.62160997]\n",
            "[1.         1.26491106 1.37840488]\n",
            "[1.         0.63245553 0.31622777] 0.7416198487095663\n"
          ]
        }
      ]
    }
  ]
}