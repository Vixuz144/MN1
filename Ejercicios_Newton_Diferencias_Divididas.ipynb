{
  "nbformat": 4,
  "nbformat_minor": 0,
  "metadata": {
    "colab": {
      "provenance": [],
      "authorship_tag": "ABX9TyONIlNg2UCB59CJNO2f1n2X",
      "include_colab_link": true
    },
    "kernelspec": {
      "name": "python3",
      "display_name": "Python 3"
    },
    "language_info": {
      "name": "python"
    }
  },
  "cells": [
    {
      "cell_type": "markdown",
      "metadata": {
        "id": "view-in-github",
        "colab_type": "text"
      },
      "source": [
        "<a href=\"https://colab.research.google.com/github/Vixuz144/MN1/blob/main/Ejercicios_Newton_Diferencias_Divididas.ipynb\" target=\"_parent\"><img src=\"https://colab.research.google.com/assets/colab-badge.svg\" alt=\"Open In Colab\"/></a>"
      ]
    },
    {
      "cell_type": "code",
      "execution_count": 227,
      "metadata": {
        "id": "x36gIKXCrMfT"
      },
      "outputs": [],
      "source": [
        "import numpy as np\n",
        "import sympy as sp\n",
        "import pandas as pd"
      ]
    },
    {
      "cell_type": "code",
      "source": [
        "t = sp.Symbol('t')"
      ],
      "metadata": {
        "id": "bAF4Kc9Q-4WY"
      },
      "execution_count": 228,
      "outputs": []
    },
    {
      "cell_type": "code",
      "source": [
        "def NDD(X, Y, x = t, dec = 5):\n",
        "  F = np.ones_like(Y) * Y\n",
        "  n = len(X)\n",
        "\n",
        "  M = np.concatenate((np.transpose([X]),np.transpose([Y]),np.zeros((n,n-1))),1)\n",
        "  p = Y[0] * 1\n",
        "\n",
        "  for i in range(n-1):\n",
        "    m = len(F)\n",
        "    L = []\n",
        "    for j in range(1,m):\n",
        "      a = np.round((F[j]- F[j-1])/(X[i+j]-X[j-1]), dec)\n",
        "      L.append(a)\n",
        "      M[j+i,i+2] = a\n",
        "    F = np.array(L)\n",
        "\n",
        "    s = 1\n",
        "    for j in range(i+1):\n",
        "      a = x-np.round(X[j], dec)\n",
        "      s *= a\n",
        "    p += F[0]*s\n",
        "\n",
        "  t = ['X', 'Y']\n",
        "  for i in range(1,n):\n",
        "    comas = ','*i\n",
        "    t.append(f'f({comas})')\n",
        "\n",
        "  T = pd.DataFrame(np.round(M, dec), columns=t)\n",
        "  return T, p"
      ],
      "metadata": {
        "id": "l6wT47c2yQwo"
      },
      "execution_count": 229,
      "outputs": []
    },
    {
      "cell_type": "code",
      "source": [
        "X = np.array([1.82, 2.50, 3.65, 4.03])\n",
        "Y = np.array([0, 1.3, 3.1, 2.52])\n",
        "a, b = NDD(X, Y)\n",
        "print(a, '\\n')\n",
        "print(b)"
      ],
      "metadata": {
        "colab": {
          "base_uri": "https://localhost:8080/"
        },
        "id": "ZrG3ui4K1H3n",
        "outputId": "38ca84cd-5ca0-48c5-9472-31110b9e3de1"
      },
      "execution_count": 238,
      "outputs": [
        {
          "output_type": "stream",
          "name": "stdout",
          "text": [
            "      X     Y     f(,)    f(,,)   f(,,,)\n",
            "0  1.82  0.00  0.00000  0.00000  0.00000\n",
            "1  2.50  1.30  1.91176  0.00000  0.00000\n",
            "2  3.65  3.10  1.56522 -0.18937  0.00000\n",
            "3  4.03  2.52 -1.52632 -2.02061 -0.82862 \n",
            "\n",
            "1.91176*t - 0.82862*(t - 3.65)*(t - 2.5)*(t - 1.82) - 0.18937*(t - 2.5)*(t - 1.82) - 3.4794032\n"
          ]
        }
      ]
    },
    {
      "cell_type": "code",
      "source": [
        "print(sp.expand(b),'=',b.subs(t,1))"
      ],
      "metadata": {
        "colab": {
          "base_uri": "https://localhost:8080/"
        },
        "id": "6mVqqlD_1IY5",
        "outputId": "f2f210a7-ceb1-4d72-ef6d-d29c077487b8"
      },
      "execution_count": 240,
      "outputs": [
        {
          "output_type": "stream",
          "name": "stdout",
          "text": [
            "-0.82862*t**3 + 6.4147314*t**2 - 14.10606276*t + 9.42026995 = 0.900318590000000\n"
          ]
        }
      ]
    }
  ]
}