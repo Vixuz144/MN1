{
  "nbformat": 4,
  "nbformat_minor": 0,
  "metadata": {
    "colab": {
      "provenance": [],
      "authorship_tag": "ABX9TyMr8eptm/ODe8JkUn+WUF/p",
      "include_colab_link": true
    },
    "kernelspec": {
      "name": "python3",
      "display_name": "Python 3"
    },
    "language_info": {
      "name": "python"
    }
  },
  "cells": [
    {
      "cell_type": "markdown",
      "metadata": {
        "id": "view-in-github",
        "colab_type": "text"
      },
      "source": [
        "<a href=\"https://colab.research.google.com/github/Vixuz144/MN1/blob/main/Ejercicios_Newton_Diferencias_Divididas.ipynb\" target=\"_parent\"><img src=\"https://colab.research.google.com/assets/colab-badge.svg\" alt=\"Open In Colab\"/></a>"
      ]
    },
    {
      "cell_type": "code",
      "execution_count": null,
      "metadata": {
        "id": "x36gIKXCrMfT"
      },
      "outputs": [],
      "source": [
        "import numpy as np\n",
        "import sympy as sp\n",
        "import pandas as pd"
      ]
    },
    {
      "cell_type": "code",
      "source": [
        "t = sp.Symbol('t')"
      ],
      "metadata": {
        "id": "bAF4Kc9Q-4WY"
      },
      "execution_count": null,
      "outputs": []
    },
    {
      "cell_type": "code",
      "source": [
        "def NDD(X, Y, x = t, dec = 5):\n",
        "  F = np.ones_like(Y) * Y\n",
        "  n = len(X)\n",
        "\n",
        "  M = np.concatenate((np.transpose([X]),np.transpose([Y]),np.zeros((n,n-1))),1)\n",
        "  p = Y[0] * 1\n",
        "\n",
        "  for i in range(n-1):\n",
        "    m = len(F)\n",
        "    L = []\n",
        "    for j in range(1,m):\n",
        "      a = (F[j]- F[j-1])/(X[i+j]-X[j-1])\n",
        "      L.append(a)\n",
        "      M[j+i,i+2] = a\n",
        "    F = np.array(L)\n",
        "\n",
        "    s = 1\n",
        "    for j in range(i+1):\n",
        "      a = x-np.round(X[j], dec)\n",
        "      s *= a\n",
        "    p += np.round(F[0], dec)*s\n",
        "\n",
        "  t = ['X', 'Y']\n",
        "  for i in range(1,n):\n",
        "    comas = ','*i\n",
        "    t.append(f'f({comas})')\n",
        "\n",
        "  T = pd.DataFrame(np.round(M, dec), columns=t)\n",
        "  return T, p"
      ],
      "metadata": {
        "id": "l6wT47c2yQwo"
      },
      "execution_count": null,
      "outputs": []
    },
    {
      "cell_type": "code",
      "source": [
        "X = np.array([1.82, 2.50, 3.65, 4.03])\n",
        "Y = np.array([0, 1.3, 3.1, 2.52])\n",
        "a, b = NDD(X, Y, dec = 7)\n",
        "print(a, '\\n')\n",
        "print(b)"
      ],
      "metadata": {
        "colab": {
          "base_uri": "https://localhost:8080/"
        },
        "id": "ZrG3ui4K1H3n",
        "outputId": "e0bfad22-9170-4c21-9675-2941f537fa68"
      },
      "execution_count": null,
      "outputs": [
        {
          "output_type": "stream",
          "name": "stdout",
          "text": [
            "      X     Y      f(,)    f(,,)    f(,,,)\n",
            "0  1.82  0.00  0.000000  0.00000  0.000000\n",
            "1  2.50  1.30  1.911765  0.00000  0.000000\n",
            "2  3.65  3.10  1.565217 -0.18937  0.000000\n",
            "3  4.03  2.52 -1.526316 -2.02061 -0.828615 \n",
            "\n",
            "1.9117647*t - 0.8286153*(t - 3.65)*(t - 2.5)*(t - 1.82) - 0.1893701*(t - 2.5)*(t - 1.82) - 3.479411754\n"
          ]
        }
      ]
    },
    {
      "cell_type": "code",
      "source": [
        "print(sp.expand(b),'=',b.subs(t,1))"
      ],
      "metadata": {
        "colab": {
          "base_uri": "https://localhost:8080/"
        },
        "id": "6mVqqlD_1IY5",
        "outputId": "d69716ba-5fc7-41d9-ee7c-fdf74d5595b7"
      },
      "execution_count": null,
      "outputs": [
        {
          "output_type": "stream",
          "name": "stdout",
          "text": [
            "-0.8286153*t**3 + 6.414693841*t**2 - 14.1059621334*t + 9.42018288575 = 0.900299293350000\n"
          ]
        }
      ]
    },
    {
      "cell_type": "code",
      "source": [
        "X = [1.0, 1.3, 1.6, 1.9, 2.2]\n",
        "Y = [0.7651977, 0.6200860, 0.4554022, 0.2818186, 0.1103623]\n",
        "a, b = NDD(X, Y, dec = 10)\n",
        "print(a, '\\n')\n",
        "print(b)\n",
        "print(b.subs(t,1.5))"
      ],
      "metadata": {
        "colab": {
          "base_uri": "https://localhost:8080/"
        },
        "id": "XN0pc0N1AXJN",
        "outputId": "4be3f1a0-5617-4390-e26c-9f2b8ea15ad8"
      },
      "execution_count": null,
      "outputs": [
        {
          "output_type": "stream",
          "name": "stdout",
          "text": [
            "     X         Y      f(,)     f(,,)    f(,,,)   f(,,,,)\n",
            "0  1.0  0.765198  0.000000  0.000000  0.000000  0.000000\n",
            "1  1.3  0.620086 -0.483706  0.000000  0.000000  0.000000\n",
            "2  1.6  0.455402 -0.548946 -0.108734  0.000000  0.000000\n",
            "3  1.9  0.281819 -0.578612 -0.049443  0.065878  0.000000\n",
            "4  2.2  0.110362 -0.571521  0.011818  0.068069  0.001825 \n",
            "\n",
            "-0.4837056667*t + 0.0018251029*(t - 1.9)*(t - 1.6)*(t - 1.3)*(t - 1.0) + 0.0658783951*(t - 1.6)*(t - 1.3)*(t - 1.0) - 0.1087338889*(t - 1.3)*(t - 1.0) + 1.2489033667\n",
            "0.511819994220600\n"
          ]
        }
      ]
    },
    {
      "cell_type": "code",
      "source": [
        "#134 784\n",
        "\n",
        "X = [-0.1, 0.0, 0.2, 0.3]\n",
        "Y = [5.3, 2, 3.19, 1]\n",
        "\n",
        "a, b = NDD(X, Y, dec = 10)\n",
        "print(a, '\\n')\n",
        "print(b)\n",
        "# print(sp.expand(b))\n",
        "print(b.subs(t,0.25))\n",
        "sp.plot(b, xlim=(-1,1), ylim=(-100,100))"
      ],
      "metadata": {
        "colab": {
          "base_uri": "https://localhost:8080/",
          "height": 643
        },
        "id": "Fev74ZkBSh_Q",
        "outputId": "1d673430-126f-4c75-b01c-083cecd575ed"
      },
      "execution_count": null,
      "outputs": [
        {
          "output_type": "stream",
          "name": "stdout",
          "text": [
            "     X     Y   f(,)       f(,,)      f(,,,)\n",
            "0 -0.1  5.30   0.00    0.000000    0.000000\n",
            "1  0.0  2.00 -33.00    0.000000    0.000000\n",
            "2  0.2  3.19   5.95  129.833333    0.000000\n",
            "3  0.3  1.00 -21.90  -92.833333 -556.666667 \n",
            "\n",
            "-556.6666666667*t*(t - 0.2)*(t + 0.1) + 129.8333333333*t*(t + 0.1) - 33.0*t + 2.0\n",
            "2.67499999999694\n"
          ]
        },
        {
          "output_type": "display_data",
          "data": {
            "text/plain": [
              "<Figure size 640x480 with 1 Axes>"
            ],
            "image/png": "[encoded data removed]"
          },
          "metadata": {}
        },
        {
          "output_type": "execute_result",
          "data": {
            "text/plain": [
              "<sympy.plotting.backends.matplotlibbackend.matplotlib.MatplotlibBackend at 0x7ba5a2c5b8b0>"
            ]
          },
          "metadata": {},
          "execution_count": 290
        }
      ]
    },
    {
      "cell_type": "code",
      "source": [
        "X = [-2, -1, 0, 1, 2, 3]\n",
        "Y = [1, 4, 11, 16, 13, -4]\n",
        "\n",
        "a, b = NDD(X, Y, dec = 10)\n",
        "print(a, '\\n')\n",
        "print(b)\n",
        "# print(sp.expand(b))\n",
        "print(b.subs(t,0.25))\n",
        "sp.plot(b, xlim=(-1,1), ylim=(-100,100))"
      ],
      "metadata": {
        "colab": {
          "base_uri": "https://localhost:8080/",
          "height": 678
        },
        "id": "OLiCkGXVbRwK",
        "outputId": "e10c794e-36c2-40d0-f517-86de947ab926"
      },
      "execution_count": null,
      "outputs": [
        {
          "output_type": "stream",
          "name": "stdout",
          "text": [
            "     X     Y  f(,)  f(,,)  f(,,,)  f(,,,,)  f(,,,,,)\n",
            "0 -2.0   1.0   0.0    0.0     0.0      0.0       0.0\n",
            "1 -1.0   4.0   3.0    0.0     0.0      0.0       0.0\n",
            "2  0.0  11.0   7.0    2.0     0.0      0.0       0.0\n",
            "3  1.0  16.0   5.0   -1.0    -1.0      0.0       0.0\n",
            "4  2.0  13.0  -3.0   -4.0    -1.0      0.0       0.0\n",
            "5  3.0  -4.0 -17.0   -7.0    -1.0      0.0       0.0 \n",
            "\n",
            "-1.0*t*(t + 1)*(t + 2) + 3.0*t + 2.0*(t + 1)*(t + 2) + 7.0\n",
            "12.6718750000000\n"
          ]
        },
        {
          "output_type": "display_data",
          "data": {
            "text/plain": [
              "<Figure size 640x480 with 1 Axes>"
            ],
            "image/png": "[encoded data removed]"
          },
          "metadata": {}
        },
        {
          "output_type": "execute_result",
          "data": {
            "text/plain": [
              "<sympy.plotting.backends.matplotlibbackend.matplotlib.MatplotlibBackend at 0x7ba5a2db3010>"
            ]
          },
          "metadata": {},
          "execution_count": 291
        }
      ]
    },
    {
      "cell_type": "code",
      "source": [
        "X = [1.3, ]"
      ],
      "metadata": {
        "id": "ZrxQFFmKhypi"
      },
      "execution_count": null,
      "outputs": []
    }
  ]
}