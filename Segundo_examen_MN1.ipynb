{
  "nbformat": 4,
  "nbformat_minor": 0,
  "metadata": {
    "colab": {
      "provenance": [],
      "authorship_tag": "ABX9TyNx/0N72aVM0I2p0fCXmd+u",
      "include_colab_link": true
    },
    "kernelspec": {
      "name": "python3",
      "display_name": "Python 3"
    },
    "language_info": {
      "name": "python"
    }
  },
  "cells": [
    {
      "cell_type": "markdown",
      "metadata": {
        "id": "view-in-github",
        "colab_type": "text"
      },
      "source": [
        "<a href=\"https://colab.research.google.com/github/Vixuz144/MN1/blob/main/Segundo_examen_MN1.ipynb\" target=\"_parent\"><img src=\"https://colab.research.google.com/assets/colab-badge.svg\" alt=\"Open In Colab\"/></a>"
      ]
    },
    {
      "cell_type": "code",
      "execution_count": 94,
      "metadata": {
        "id": "S8E7pp5tm4ue"
      },
      "outputs": [],
      "source": [
        "import numpy as np\n",
        "import sympy as sp\n",
        "import pandas as pd\n",
        "import matplotlib.pyplot as plt"
      ]
    },
    {
      "cell_type": "code",
      "source": [
        "x = sp.Symbol('x')"
      ],
      "metadata": {
        "id": "dUrtmKL1Wo1H"
      },
      "execution_count": 95,
      "outputs": []
    },
    {
      "cell_type": "markdown",
      "source": [
        "#Primera Pregunta"
      ],
      "metadata": {
        "id": "54uq6l8m_LBr"
      }
    },
    {
      "cell_type": "code",
      "source": [
        "def Neville(X, Y, x=x, dec=5):\n",
        "  n = len(X)\n",
        "  M = np.zeros((n,n+1))*x\n",
        "  M[:,:2] = np.stack((X,Y),1)\n",
        "  for i in range(1,n):\n",
        "    for j in range(n-i):\n",
        "      M[j,i+1] = ((x-X[j])*M[j+1,i] - (x-X[j+i])*M[j,i]) / (X[j+i]-X[j])\n",
        "  try:\n",
        "    M = np.round(M, dec)\n",
        "    return M\n",
        "  except:\n",
        "    return M[0,-1]"
      ],
      "metadata": {
        "id": "D5y_VlJ_3f5a"
      },
      "execution_count": 96,
      "outputs": []
    },
    {
      "cell_type": "code",
      "source": [
        "X = [0, 0.4, 0.7]\n",
        "Y = [0, 2.8, 6.4]\n",
        "print(Neville(X,Y,0.5))\n",
        "print(Neville(X,Y,0.7))"
      ],
      "metadata": {
        "colab": {
          "base_uri": "https://localhost:8080/"
        },
        "id": "Na1BTbVk3i9K",
        "outputId": "f3485d61-87a1-4514-ee5a-afd520eecfaa"
      },
      "execution_count": 97,
      "outputs": [
        {
          "output_type": "stream",
          "name": "stdout",
          "text": [
            "[[0.      0.      3.5     3.85714]\n",
            " [0.4     2.8     4.      0.     ]\n",
            " [0.7     6.4     0.      0.     ]]\n",
            "[[0.  0.  4.9 6.4]\n",
            " [0.4 2.8 6.4 0. ]\n",
            " [0.7 6.4 0.  0. ]]\n"
          ]
        }
      ]
    },
    {
      "cell_type": "markdown",
      "source": [
        "#Segunda pregunta"
      ],
      "metadata": {
        "id": "_lDazXc6_OXZ"
      }
    },
    {
      "cell_type": "code",
      "source": [
        "def NDD(X, Y, x = x, dec = 5):\n",
        "  F = np.ones_like(Y) * Y\n",
        "  n = len(X)\n",
        "\n",
        "  M = np.concatenate((np.transpose([X]),np.transpose([Y]),np.zeros((n,n-1))),1)\n",
        "  p = Y[0] * 1\n",
        "\n",
        "  for i in range(n-1):\n",
        "    m = len(F)\n",
        "    L = []\n",
        "    for j in range(1,m):\n",
        "      a = (F[j]- F[j-1])/(X[i+j]-X[j-1])\n",
        "      L.append(a)\n",
        "      M[j+i,i+2] = a\n",
        "    F = np.array(L)\n",
        "\n",
        "    s = 1\n",
        "    for j in range(i+1):\n",
        "      a = x-np.round(X[j], dec)\n",
        "      s *= a\n",
        "    p += np.round(F[0], dec)*s\n",
        "\n",
        "  t = ['X', 'Y']\n",
        "  for i in range(1,n):\n",
        "    comas = ','*i\n",
        "    t.append(f'f({comas})')\n",
        "\n",
        "  T = pd.DataFrame(np.round(M, dec), columns=t)\n",
        "  return T, p"
      ],
      "metadata": {
        "id": "_9dsbJ-U4Slm"
      },
      "execution_count": 98,
      "outputs": []
    },
    {
      "cell_type": "code",
      "source": [
        "X = [0, 0.4, 0.7]\n",
        "Y = [1, 3, 6]\n",
        "t,p = NDD(X,Y,dec=5)\n",
        "print(t)"
      ],
      "metadata": {
        "colab": {
          "base_uri": "https://localhost:8080/"
        },
        "id": "z5xvBFdP4ScH",
        "outputId": "dfef4d9b-4620-497f-f3f1-0c909ad47486"
      },
      "execution_count": 99,
      "outputs": [
        {
          "output_type": "stream",
          "name": "stdout",
          "text": [
            "     X    Y  f(,)    f(,,)\n",
            "0  0.0  1.0   0.0  0.00000\n",
            "1  0.4  3.0   5.0  0.00000\n",
            "2  0.7  6.0  10.0  7.14286\n"
          ]
        }
      ]
    },
    {
      "cell_type": "markdown",
      "source": [
        "#Tercer pregunta"
      ],
      "metadata": {
        "id": "lkuCSvBt_QyO"
      }
    },
    {
      "cell_type": "code",
      "source": [
        "def inter_lag(X, Y, t = x):\n",
        "  n = len(X)\n",
        "  l = []\n",
        "  for i in range(n):\n",
        "    a = t-np.append(X[:i], X[i+1:])\n",
        "    b = X[i]-np.append(X[:i], X[i+1:])\n",
        "    l.append(np.prod(a/b))\n",
        "  l = np.array(l)\n",
        "  return np.dot(Y, l)"
      ],
      "metadata": {
        "id": "F5_rNVtRoC-v"
      },
      "execution_count": 100,
      "outputs": []
    },
    {
      "cell_type": "code",
      "source": [
        "X = np.array([0, 0.6, 0.9])\n",
        "t = 0.45\n",
        "dec = 7"
      ],
      "metadata": {
        "id": "3l_Evp5ezH1x"
      },
      "execution_count": 101,
      "outputs": []
    },
    {
      "cell_type": "code",
      "source": [
        "Ya = np.sin(X)\n",
        "s1 = np.round(inter_lag(X[:-1],Ya[:-1],t), dec)\n",
        "print(inter_lag(X[:-1],Ya[:-1]))\n",
        "print(s1, abs(np.sin(t)-s1))\n",
        "p = inter_lag(X,Ya).expand()\n",
        "print(p)\n",
        "print(inter_lag(X,Ya).expand())\n",
        "s2 = np.round(inter_lag(X,Ya,t),dec)\n",
        "print(s2, abs(np.sin(t)-s2),'\\n')\n",
        "\n",
        "\n",
        "q = x*(x-0.6)*(x-0.9)\n",
        "der = sp.diff(q.expand())\n",
        "print(der)\n",
        "ec = sp.Eq(der,0)\n",
        "sol = sp.solve(ec,x)\n",
        "print(sol,'\\n')\n",
        "\n",
        "print(q.subs(x,sol[0]), q.subs(x,sol[1]))\n",
        "print(q.subs(x,sol[0])/6)"
      ],
      "metadata": {
        "colab": {
          "base_uri": "https://localhost:8080/"
        },
        "id": "-s0CyddozXwQ",
        "outputId": "07498aca-0ecc-4f0e-dd92-0c481707e503"
      },
      "execution_count": 102,
      "outputs": [
        {
          "output_type": "stream",
          "name": "stdout",
          "text": [
            "0.941070788991726*x\n",
            "0.4234819 0.011483634111230212\n",
            "-0.235691853574332*x**2 + 1.08248590113633*x\n",
            "-0.235691853574332*x**2 + 1.08248590113633*x\n",
            "0.4393911 0.004425565888769745 \n",
            "\n",
            "3*x**2 - 3.0*x + 0.54\n",
            "[0.235424868893541, 0.764575131106459] \n",
            "\n",
            "0.0570405183549043 -0.0170405183549043\n",
            "0.00950675305915071\n"
          ]
        }
      ]
    },
    {
      "cell_type": "code",
      "source": [
        "Yb = np.cos(X)\n",
        "print(inter_lag(X[:-1],Yb[:-1]))\n",
        "sol = np.round(inter_lag(X[:-1],Yb[:-1],t),dec)\n",
        "print(sol, sol - np.cos(t))\n",
        "print(inter_lag(X,Yb))\n",
        "print(inter_lag(X,Yb).expand())\n",
        "sol = np.round(inter_lag(X,Yb,t),dec)\n",
        "print(sol, sol - np.cos(t))"
      ],
      "metadata": {
        "colab": {
          "base_uri": "https://localhost:8080/"
        },
        "id": "oOSDp0KKzXjv",
        "outputId": "ea7b6b5f-4c89-441b-c5e6-57d9585ead69"
      },
      "execution_count": 103,
      "outputs": [
        {
          "output_type": "stream",
          "name": "stdout",
          "text": [
            "1.0 - 0.29110730848387*x\n",
            "0.8690017 -0.0314454023526769\n",
            "1.3755593581828*x*(3.0 - 3.33333333333333*x) + 0.69067774252296*x*(3.33333333333333*x - 2.0) + 1.0*(1.0 - 1.66666666666667*x)*(1.0 - 1.11111111111111*x)\n",
            "-0.43108686701427*x**2 - 0.032455188275307*x + 1.0\n",
            "0.8981001 -0.00234700235267693\n"
          ]
        }
      ]
    },
    {
      "cell_type": "markdown",
      "source": [
        "#Cuarta Pregunta"
      ],
      "metadata": {
        "id": "EbgywCp1_TcA"
      }
    },
    {
      "cell_type": "code",
      "source": [
        "def Hermit(X, Y, D, x = sp.Symbol('x'), dec = 5):\n",
        "  n = len(X)\n",
        "  M = np.concatenate((np.transpose([[X],[X]]).reshape((2*n,1)), np.transpose([[Y],[Y]]).reshape((2*n,1))), 1)\n",
        "\n",
        "  p = Y[0] * 1\n",
        "\n",
        "  f = np.zeros(2*n)\n",
        "  for i in range(0,2*n-1,2):\n",
        "    f[i] = D[i//2]\n",
        "  for i in range(n-1):\n",
        "    f[2*i+1] = (Y[i+1] - Y[i])/(X[i+1] - X[i])\n",
        "\n",
        "  p += np.round(f[0], dec)*(x-M[0,0])\n",
        "  M = np.append(M, np.transpose([f]), 1)\n",
        "\n",
        "  for i in range(2,2*n):\n",
        "    l = []\n",
        "    for j in range(2*n):\n",
        "      try:\n",
        "        l.append((M[j+1,i] - M[j,i])/(M[j+i,0] - M[j,0]))\n",
        "      except:\n",
        "        l.append(0)\n",
        "    M = np.append(M, np.transpose([l]), 1)\n",
        "\n",
        "    s = 1\n",
        "    for j in range(i):\n",
        "      a = x-np.round(M[j,0], dec)\n",
        "      s *= a\n",
        "    p += np.round(M[0,i+1], dec)*s\n",
        "\n",
        "  tx = ['X', 'Y']\n",
        "  for i in range(1,2*n):\n",
        "    comas = ','*i\n",
        "    tx.append(f'f({comas})')\n",
        "\n",
        "  return pd.DataFrame(np.round(M,dec), columns=tx), p\n",
        "\n"
      ],
      "metadata": {
        "id": "28PNBFuf4765"
      },
      "execution_count": 104,
      "outputs": []
    },
    {
      "cell_type": "code",
      "source": [
        "X = [-1/4, 1/4]\n",
        "Y = [1.33203, 0.800781]\n",
        "D = [0.4375, -0.625]\n",
        "p = x**4 - x**3 + x**2 - x + 1\n",
        "print(p.subs(x,-0.25), p.subs(x,0.25))\n",
        "print(sp.diff(p).subs(x,-0.25), sp.diff(p).subs(x,0.25))\n",
        "# print(sp.diff(p).subs(x,0.734979), sp.diff(p).subs(x,0.25))\n",
        "t, q = Hermit(X,Y,D, dec = 7)\n",
        "print(t)\n",
        "print(q)\n",
        "print(q.subs(x,0))\n",
        "print(q.expand())"
      ],
      "metadata": {
        "colab": {
          "base_uri": "https://localhost:8080/"
        },
        "id": "eEHeF3Lx5KzB",
        "outputId": "b8f292b4-93d8-445f-a35d-9a41d34b77d4"
      },
      "execution_count": 105,
      "outputs": [
        {
          "output_type": "stream",
          "name": "stdout",
          "text": [
            "1.33203125000000 0.800781250000000\n",
            "-1.75000000000000 -0.625000000000000\n",
            "      X         Y      f(,)     f(,,)    f(,,,)\n",
            "0 -0.25  1.332030  0.437500 -2.999996  7.749984\n",
            "1 -0.25  1.332030 -1.062498  0.874996  0.000000\n",
            "2  0.25  0.800781 -0.625000  0.000000  0.000000\n",
            "3  0.25  0.800781  0.000000  0.000000  0.000000\n",
            "0.4375*x + 7.749984*(x - 0.25)*(x + 0.25)**2 - 2.999996*(x + 0.25)**2 + 1.441405\n",
            "1.13281175000000\n",
            "7.749984*x**3 - 1.0625*x**2 - 1.546872*x + 1.13281175\n"
          ]
        }
      ]
    },
    {
      "cell_type": "code",
      "source": [
        "from sympy import symbols, Eq, solve\n",
        "\n",
        "# Definir las variables\n",
        "x, y, z = symbols('x y z')\n",
        "\n",
        "# Definir las ecuaciones\n",
        "eq1 = Eq(30*x + 20*y + 20*z, 340)\n",
        "eq2 = Eq(20*x + 30*y + 20*z, 320)\n",
        "eq3 = Eq(x + y + z, 14)\n",
        "\n",
        "# Resolver el sistema de ecuaciones\n",
        "sol = solve((eq1, eq2, eq3), (x, y, z))\n",
        "\n",
        "# Mostrar la solución\n",
        "print(\"Solución:\")\n",
        "print(f\"x (Inglaterra) = {sol[x]}\")\n",
        "print(f\"y (Francia) = {sol[y]}\")\n",
        "print(f\"z (España) = {sol[z]}\")\n"
      ],
      "metadata": {
        "colab": {
          "base_uri": "https://localhost:8080/"
        },
        "id": "C7m7hk06SP_g",
        "outputId": "28e8a8bd-643c-4fc2-edfc-e17061823249"
      },
      "execution_count": 106,
      "outputs": [
        {
          "output_type": "stream",
          "name": "stdout",
          "text": [
            "Solución:\n",
            "x (Inglaterra) = 6\n",
            "y (Francia) = 4\n",
            "z (España) = 4\n"
          ]
        }
      ]
    },
    {
      "cell_type": "code",
      "source": [
        "from sympy import symbols, Eq, solve\n",
        "\n",
        "# Definir las variables\n",
        "x, y, z = symbols('x y z')\n",
        "\n",
        "# Definir las ecuaciones\n",
        "eq1 = Eq(-2*x + y + 6*z, 18)  # -2x + y + 6z = 18\n",
        "eq2 = Eq(5*x + 8*z, -16)       # 5x + 8z = -16\n",
        "eq3 = Eq(3*x + 2*y - 10*z, -3) # 3x + 2y - 10z = -3\n",
        "\n",
        "# Resolver el sistema de ecuaciones\n",
        "sol = solve((eq1, eq2, eq3), (x, y, z))\n",
        "\n",
        "# Mostrar la solución\n",
        "print(\"Solución:\")\n",
        "print(f\"x = {sol[x]}\")\n",
        "print(f\"y = {sol[y]}\")\n",
        "print(f\"z = {sol[z]}\")\n"
      ],
      "metadata": {
        "colab": {
          "base_uri": "https://localhost:8080/"
        },
        "id": "GFcN5TDxTTQb",
        "outputId": "9d67a3d0-b621-40b8-b172-8fd9d9037bfc"
      },
      "execution_count": 107,
      "outputs": [
        {
          "output_type": "stream",
          "name": "stdout",
          "text": [
            "Solución:\n",
            "x = -4\n",
            "y = 7\n",
            "z = 1/2\n"
          ]
        }
      ]
    }
  ]
}