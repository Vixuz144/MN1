{
  "nbformat": 4,
  "nbformat_minor": 0,
  "metadata": {
    "colab": {
      "provenance": [],
      "authorship_tag": "ABX9TyM1fh2PpmHuYZnPh/JOTcg/",
      "include_colab_link": true
    },
    "kernelspec": {
      "name": "python3",
      "display_name": "Python 3"
    },
    "language_info": {
      "name": "python"
    }
  },
  "cells": [
    {
      "cell_type": "markdown",
      "metadata": {
        "id": "view-in-github",
        "colab_type": "text"
      },
      "source": [
        "<a href=\"https://colab.research.google.com/github/Vixuz144/MN1/blob/main/Ejercicios_Neville.ipynb\" target=\"_parent\"><img src=\"https://colab.research.google.com/assets/colab-badge.svg\" alt=\"Open In Colab\"/></a>"
      ]
    },
    {
      "cell_type": "code",
      "execution_count": 138,
      "metadata": {
        "id": "WdmldNo8EL3e"
      },
      "outputs": [],
      "source": [
        "import numpy as np\n",
        "import sympy as sp\n",
        "import pandas as pd"
      ]
    },
    {
      "cell_type": "code",
      "source": [
        "x = sp.Symbol('x')"
      ],
      "metadata": {
        "id": "lwjld-0MFSmN"
      },
      "execution_count": 139,
      "outputs": []
    },
    {
      "cell_type": "code",
      "source": [
        "X = [1, 1.3, 1.6, 1.9, 2.2]\n",
        "Y = [0.7651977, 0.6200860, 0.4554022, 0.2818186, 0.1103623]\n",
        "\n"
      ],
      "metadata": {
        "id": "deqj_vpPExRH"
      },
      "execution_count": 140,
      "outputs": []
    },
    {
      "cell_type": "code",
      "source": [
        "def Neville(X, Y, x=x, dec=5):\n",
        "  n = len(X)\n",
        "  M = np.zeros((n,n+1))*x\n",
        "  M[:,:2] = np.stack((X,Y),1)\n",
        "  for i in range(1,n):\n",
        "    for j in range(n-i):\n",
        "      M[j,i+1] = ((x-X[j])*M[j+1,i] - (x-X[j+i])*M[j,i]) / (X[j+i]-X[j])\n",
        "  try:\n",
        "    M = np.round(M, dec)\n",
        "    return M\n",
        "  except:\n",
        "    return M[0,-1]\n",
        "\n",
        "print(Neville(X,Y,1.5))"
      ],
      "metadata": {
        "colab": {
          "base_uri": "https://localhost:8080/"
        },
        "id": "2ehJzNU2FNDO",
        "outputId": "bbe6049b-918c-4d44-9abf-38184a47de5f"
      },
      "execution_count": 141,
      "outputs": [
        {
          "output_type": "stream",
          "name": "stdout",
          "text": [
            "[[1.      0.7652  0.52334 0.51247 0.51181 0.51182]\n",
            " [1.3     0.62009 0.5103  0.51129 0.51183 0.     ]\n",
            " [1.6     0.4554  0.51326 0.51374 0.      0.     ]\n",
            " [1.9     0.28182 0.51043 0.      0.      0.     ]\n",
            " [2.2     0.11036 0.      0.      0.      0.     ]]\n"
          ]
        }
      ]
    },
    {
      "cell_type": "code",
      "source": [
        "3**-1"
      ],
      "metadata": {
        "colab": {
          "base_uri": "https://localhost:8080/"
        },
        "id": "rZlX-hR9TdvK",
        "outputId": "7a892506-6636-4c1d-dbb8-62da9bd3c84f"
      },
      "execution_count": 142,
      "outputs": [
        {
          "output_type": "execute_result",
          "data": {
            "text/plain": [
              "0.3333333333333333"
            ]
          },
          "metadata": {},
          "execution_count": 142
        }
      ]
    },
    {
      "cell_type": "code",
      "source": [
        "X = [-2,-1,0,1,2]\n",
        "Y = []\n",
        "for i in X:\n",
        "  Y.append(3**i)\n",
        "print(Y)\n",
        "print(Neville(X, Y, 0.5))"
      ],
      "metadata": {
        "colab": {
          "base_uri": "https://localhost:8080/"
        },
        "id": "WeQoa0ABN-si",
        "outputId": "39114c99-406d-4829-9fbe-bfc4c710c726"
      },
      "execution_count": 143,
      "outputs": [
        {
          "output_type": "stream",
          "name": "stdout",
          "text": [
            "[0.1111111111111111, 0.3333333333333333, 1, 3, 9]\n",
            "[[-2.       0.11111  0.66667  1.5      1.77778  1.70833]\n",
            " [-1.       0.33333  1.33333  1.83333  1.66667  0.     ]\n",
            " [ 0.       1.       2.       1.5      0.       0.     ]\n",
            " [ 1.       3.       0.       0.       0.       0.     ]\n",
            " [ 2.       9.       0.       0.       0.       0.     ]]\n"
          ]
        }
      ]
    },
    {
      "cell_type": "code",
      "source": [
        "X = [0, 1, 2, 4, 5]\n",
        "print(Neville(X,np.sqrt(X),3))"
      ],
      "metadata": {
        "colab": {
          "base_uri": "https://localhost:8080/"
        },
        "id": "UH4b4TxHSjRu",
        "outputId": "65691e01-59c4-4d02-aca2-cb032f3c694d"
      },
      "execution_count": 144,
      "outputs": [
        {
          "output_type": "stream",
          "name": "stdout",
          "text": [
            "[[0.      0.      3.      1.24264 1.62132 1.69061]\n",
            " [1.      1.      1.82843 1.74755 1.7368  0.     ]\n",
            " [2.      1.41421 1.70711 1.72605 0.      0.     ]\n",
            " [4.      2.      1.76393 0.      0.      0.     ]\n",
            " [5.      2.23607 0.      0.      0.      0.     ]]\n"
          ]
        }
      ]
    },
    {
      "cell_type": "code",
      "source": [
        "X = [0, 0.4, 0.7]\n",
        "Y = [0, 2.8, 6.4]\n",
        "print(Neville(X,Y,0.5))"
      ],
      "metadata": {
        "colab": {
          "base_uri": "https://localhost:8080/"
        },
        "id": "Ohjg3WjUOLe_",
        "outputId": "14a5de9f-0608-41cc-946e-570cc4f9dc19"
      },
      "execution_count": 145,
      "outputs": [
        {
          "output_type": "stream",
          "name": "stdout",
          "text": [
            "[[0.      0.      3.5     3.85714]\n",
            " [0.4     2.8     4.      0.     ]\n",
            " [0.7     6.4     0.      0.     ]]\n"
          ]
        }
      ]
    }
  ]
}