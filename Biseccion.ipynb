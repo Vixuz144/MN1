{
  "nbformat": 4,
  "nbformat_minor": 0,
  "metadata": {
    "colab": {
      "provenance": [],
      "authorship_tag": "ABX9TyMe2VJX3iseq1XIuDqSgrXl",
      "include_colab_link": true
    },
    "kernelspec": {
      "name": "python3",
      "display_name": "Python 3"
    },
    "language_info": {
      "name": "python"
    }
  },
  "cells": [
    {
      "cell_type": "markdown",
      "metadata": {
        "id": "view-in-github",
        "colab_type": "text"
      },
      "source": [
        "<a href=\"https://colab.research.google.com/github/Vixuz144/MN1/blob/main/Biseccion.ipynb\" target=\"_parent\"><img src=\"https://colab.research.google.com/assets/colab-badge.svg\" alt=\"Open In Colab\"/></a>"
      ]
    },
    {
      "cell_type": "markdown",
      "source": [
        "***Instrucciones:*** Resuelva los ejercicios de la manera más detallada, completa y clara posible. Entregue las repuestas por escrito a más tardar la fecha señalda."
      ],
      "metadata": {
        "id": "2YtDPVJHIqBg"
      }
    },
    {
      "cell_type": "markdown",
      "source": [
        "1. Obtenga una cota del número de iteraciones que se requieren para alcanzar una aproximación con una exactitud de $10^{-3}$ a la solución de $x^3 + x - 4$ que se encuentra en el intervalo $[1, 4]$."
      ],
      "metadata": {
        "id": "UBBmcM4dHqWh"
      }
    },
    {
      "cell_type": "markdown",
      "source": [
        "Sea $|P_n - P| \\leq \\frac{b-a}{2^n}$,  cuando $n\\geq 1$. Se busca un $n$ los suficientemente grande para $|P_n - P| \\leq \\frac{b-a}{2^n} \\leq 10^{-3} $\n",
        "\n",
        "Al sustituir se tiene lo siguiente.\n",
        "\n",
        "$$ \\frac{4-1}{2^n} \\leq 10^{-3} $$\n",
        "$$ 3 * 10^{3} \\leq 2^n $$\n",
        "$$ 2^n \\geq 3000 $$\n",
        "$$ \\log_2(2^n) \\geq \\log_2(3000) $$\n",
        "$$ n \\log_2(2) \\geq \\log_2(3000) $$\n",
        "$$ n \\geq \\log_2(3000) $$\n",
        "$$ n \\geq 11.55075 $$"
      ],
      "metadata": {
        "id": "6lmT76ywJKUS"
      }
    },
    {
      "cell_type": "code",
      "execution_count": 1,
      "metadata": {
        "colab": {
          "base_uri": "https://localhost:8080/"
        },
        "id": "6NG9V86OHZG2",
        "outputId": "ae69b58f-f98a-4d86-d59c-760132c3cf2c"
      },
      "outputs": [
        {
          "output_type": "stream",
          "name": "stdout",
          "text": [
            "11.55075\n",
            "11.550746785383243\n"
          ]
        }
      ],
      "source": [
        "from math import log2\n",
        "print(round(log2(3*10**3), 5))\n",
        "print(log2(3000))"
      ]
    },
    {
      "cell_type": "markdown",
      "source": [
        "\n",
        "Por lo que nuestra cota para el número de iteraciones es 11.55075 o 12. Lo cual podemos observar en el codigo siguiente."
      ],
      "metadata": {
        "id": "mUionfNBUm8y"
      }
    },
    {
      "cell_type": "code",
      "source": [
        "import numpy as np\n",
        "import prettytable as pt\n",
        "def Biseccion(f, a0, b0, tol = 10**-5, max_iter = 100, dec = 7):\n",
        "  a, b = a0, b0\n",
        "  error = tol * 100\n",
        "\n",
        "  i = 0\n",
        "  m = a + (b-a)/2\n",
        "  fa, fb, fm = f(a), f(b), f(m)\n",
        "  cont_eval = 3\n",
        "  T = pt.PrettyTable(['Iteración', 'a', 'b', 'f(a)', \"f(b)\", \"m\", \"f(m)\", \"error\"])\n",
        "  T.add_row([i, round(a, dec), round(b, dec), round(fa, dec), round(fb, dec), round(m, dec), round(fm, dec), '-------'])\n",
        "\n",
        "  while i <= max_iter and error > tol:\n",
        "    if np.sign(fa) == np.sign(fm):\n",
        "      a = m\n",
        "      fa = fm\n",
        "    else:\n",
        "      b = m\n",
        "      fb = fm\n",
        "\n",
        "    m = a + (b-a)/2\n",
        "    fm = f(m)\n",
        "\n",
        "    i += 1\n",
        "    cont_eval += 1\n",
        "    error = abs(b-a)\n",
        "\n",
        "    T.add_row([i, round(a, dec), round(b, dec), round(fa, dec), round(fb, dec), round(m, dec), round(fm, dec), round(error, dec)])\n",
        "\n",
        "  print(T)\n",
        "  return m, fm, i, cont_eval, error"
      ],
      "metadata": {
        "id": "acRtsNTmVm5B"
      },
      "execution_count": 2,
      "outputs": []
    },
    {
      "cell_type": "code",
      "source": [
        "f = lambda x: x**3 + x - 4\n",
        "a = 1\n",
        "b = 4\n",
        "tol = 10**-3\n",
        "\n",
        "m, fm, i, c_e, e = Biseccion(f, a, b, tol)\n",
        "\n",
        "print(f'La raiz está aproximadamente en {m} y su valor aproximado es {fm}')\n",
        "print('Iteraciones necesarias %d. \\tCantidad de evaluaciones de la función = %d.' %(i, c_e))\n",
        "print(\"Error = %.7f\" %e)"
      ],
      "metadata": {
        "colab": {
          "base_uri": "https://localhost:8080/"
        },
        "id": "66Bd5jh1UnvK",
        "outputId": "e60e45d1-53b2-4316-abea-a6ef7f8550e2"
      },
      "execution_count": 3,
      "outputs": [
        {
          "output_type": "stream",
          "name": "stdout",
          "text": [
            "+-----------+-----------+-----------+------------+-----------+-----------+------------+-----------+\n",
            "| Iteración |     a     |     b     |    f(a)    |    f(b)   |     m     |    f(m)    |   error   |\n",
            "+-----------+-----------+-----------+------------+-----------+-----------+------------+-----------+\n",
            "|     0     |     1     |     4     |     -2     |     64    |    2.5    |   14.125   |  -------  |\n",
            "|     1     |     1     |    2.5    |     -2     |   14.125  |    1.75   |  3.109375  |    1.5    |\n",
            "|     2     |     1     |    1.75   |     -2     |  3.109375 |   1.375   | -0.0253906 |    0.75   |\n",
            "|     3     |   1.375   |    1.75   | -0.0253906 |  3.109375 |   1.5625  | 1.3771973  |   0.375   |\n",
            "|     4     |   1.375   |   1.5625  | -0.0253906 | 1.3771973 |  1.46875  | 0.6371765  |   0.1875  |\n",
            "|     5     |   1.375   |  1.46875  | -0.0253906 | 0.6371765 |  1.421875 | 0.2965202  |  0.09375  |\n",
            "|     6     |   1.375   |  1.421875 | -0.0253906 | 0.2965202 | 1.3984375 | 0.1332603  |  0.046875 |\n",
            "|     7     |   1.375   | 1.3984375 | -0.0253906 | 0.1332603 | 1.3867188 | 0.0533635  | 0.0234375 |\n",
            "|     8     |   1.375   | 1.3867188 | -0.0253906 | 0.0533635 | 1.3808594 | 0.0138442  | 0.0117188 |\n",
            "|     9     |   1.375   | 1.3808594 | -0.0253906 | 0.0138442 | 1.3779297 | -0.0058087 | 0.0058594 |\n",
            "|     10    | 1.3779297 | 1.3808594 | -0.0058087 | 0.0138442 | 1.3793945 | 0.0040089  | 0.0029297 |\n",
            "|     11    | 1.3779297 | 1.3793945 | -0.0058087 | 0.0040089 | 1.3786621 | -0.0009021 | 0.0014648 |\n",
            "|     12    | 1.3786621 | 1.3793945 | -0.0009021 | 0.0040089 | 1.3790283 | 0.0015528  | 0.0007324 |\n",
            "+-----------+-----------+-----------+------------+-----------+-----------+------------+-----------+\n",
            "La raiz está aproximadamente en 1.3790283203125 y su valor aproximado es 0.0015528278327110456\n",
            "Iteraciones necesarias 12. \tCantidad de evaluaciones de la función = 15.\n",
            "Error = 0.0007324\n"
          ]
        }
      ]
    },
    {
      "cell_type": "markdown",
      "source": [
        "2. Encuentre la raíz de la ecuación $x \\log_{10} (x) - 1.2 = 0$ correcta a cinco cifras significativas por el método de bisección."
      ],
      "metadata": {
        "id": "dQiEVpCMHqvn"
      }
    },
    {
      "cell_type": "markdown",
      "source": [
        ":"
      ],
      "metadata": {
        "id": "8JIOSiI1JZi8"
      }
    },
    {
      "cell_type": "code",
      "source": [
        "from math import log10\n",
        "f = lambda x: x * log10(x) - 1.2\n",
        "a = 2\n",
        "b = 3\n",
        "tol = 10**-5\n",
        "\n",
        "m, fm, i, c_e, e = Biseccion(f, a, b, tol, dec = 10)\n",
        "\n",
        "print(f'La raiz está aproximadamente en {m} y su valor aproximado es {fm}')\n",
        "print('Iteraciones necesarias %d. \\tCantidad de evaluaciones de la función = %d.' %(i, c_e))\n",
        "print(\"Error = %.17f\" %e)"
      ],
      "metadata": {
        "id": "WRPNzYfoHrEu",
        "colab": {
          "base_uri": "https://localhost:8080/"
        },
        "outputId": "71ed4673-cb1e-49e3-adac-99032e3c56e9"
      },
      "execution_count": 4,
      "outputs": [
        {
          "output_type": "stream",
          "name": "stdout",
          "text": [
            "+-----------+--------------+--------------+---------------+--------------+--------------+---------------+--------------+\n",
            "| Iteración |      a       |      b       |      f(a)     |     f(b)     |      m       |      f(m)     |    error     |\n",
            "+-----------+--------------+--------------+---------------+--------------+--------------+---------------+--------------+\n",
            "|     0     |      2       |      3       | -0.5979400087 | 0.2313637642 |     2.5      | -0.2051499783 |   -------    |\n",
            "|     1     |     2.5      |      3       | -0.2051499783 | 0.2313637642 |     2.75     |  0.008164908  |     0.5      |\n",
            "|     2     |     2.5      |     2.75     | -0.2051499783 | 0.008164908  |    2.625     | -0.0997855672 |     0.25     |\n",
            "|     3     |    2.625     |     2.75     | -0.0997855672 | 0.008164908  |    2.6875    |  -0.046125979 |    0.125     |\n",
            "|     4     |    2.6875    |     2.75     |  -0.046125979 | 0.008164908  |   2.71875    | -0.0190585355 |    0.0625    |\n",
            "|     5     |   2.71875    |     2.75     | -0.0190585355 | 0.008164908  |   2.734375   |  -0.005466202 |   0.03125    |\n",
            "|     6     |   2.734375   |     2.75     |  -0.005466202 | 0.008164908  |  2.7421875   |  0.0013445198 |   0.015625   |\n",
            "|     7     |   2.734375   |  2.7421875   |  -0.005466202 | 0.0013445198 |  2.73828125  | -0.0020620511 |  0.0078125   |\n",
            "|     8     |  2.73828125  |  2.7421875   | -0.0020620511 | 0.0013445198 | 2.740234375  |  -0.000359068 |  0.00390625  |\n",
            "|     9     | 2.740234375  |  2.7421875   |  -0.000359068 | 0.0013445198 | 2.7412109375 |  0.0004926504 | 0.001953125  |\n",
            "|     10    | 2.740234375  | 2.7412109375 |  -0.000359068 | 0.0004926504 | 2.7407226562 |  6.67723e-05  | 0.0009765625 |\n",
            "|     11    | 2.740234375  | 2.7407226562 |  -0.000359068 | 6.67723e-05  | 2.7404785156 | -0.0001461525 | 0.0004882812 |\n",
            "|     12    | 2.7404785156 | 2.7407226562 | -0.0001461525 | 6.67723e-05  | 2.7406005859 |  -3.96913e-05 | 0.0002441406 |\n",
            "|     13    | 2.7406005859 | 2.7407226562 |  -3.96913e-05 | 6.67723e-05  | 2.7406616211 |  1.35402e-05  | 0.0001220703 |\n",
            "|     14    | 2.7406005859 | 2.7406616211 |  -3.96913e-05 | 1.35402e-05  | 2.7406311035 |  -1.30756e-05 | 6.10352e-05  |\n",
            "|     15    | 2.7406311035 | 2.7406616211 |  -1.30756e-05 | 1.35402e-05  | 2.7406463623 |   2.323e-07   | 3.05176e-05  |\n",
            "|     16    | 2.7406311035 | 2.7406463623 |  -1.30756e-05 |  2.323e-07   | 2.7406387329 |  -6.4217e-06  | 1.52588e-05  |\n",
            "|     17    | 2.7406387329 | 2.7406463623 |  -6.4217e-06  |  2.323e-07   | 2.7406425476 |  -3.0947e-06  |  7.6294e-06  |\n",
            "+-----------+--------------+--------------+---------------+--------------+--------------+---------------+--------------+\n",
            "La raiz está aproximadamente en 2.740642547607422 y su valor aproximado es -3.09469756176739e-06\n",
            "Iteraciones necesarias 17. \tCantidad de evaluaciones de la función = 20.\n",
            "Error = 0.00000762939453125\n"
          ]
        }
      ]
    }
  ]
}